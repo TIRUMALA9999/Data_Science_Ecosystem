{
 "cells": [
  {
   "cell_type": "code",
   "execution_count": null,
   "id": "68e0cc3b",
   "metadata": {},
   "outputs": [],
   "source": []
  },
  {
   "cell_type": "code",
   "execution_count": null,
   "id": "de33f7a5",
   "metadata": {},
   "outputs": [],
   "source": []
  },
  {
   "cell_type": "markdown",
   "id": "ac4a4c3b",
   "metadata": {},
   "source": [
    "# Data Science Tools and Ecosystem"
   ]
  },
  {
   "cell_type": "code",
   "execution_count": null,
   "id": "16b9d1c7",
   "metadata": {},
   "outputs": [],
   "source": []
  },
  {
   "cell_type": "markdown",
   "id": "ace5fd9d",
   "metadata": {},
   "source": [
    "#### In this notebook, Data Science tools and ecosystem are summarized."
   ]
  },
  {
   "cell_type": "markdown",
   "id": "89907400",
   "metadata": {},
   "source": [
    "#### Some of the popular languages that data scientists use are\n",
    "1. Python\n",
    "2. R\n",
    "3. Julia\n",
    "4. Scala\n",
    "5. Java\n",
    "6. C/C++"
   ]
  },
  {
   "cell_type": "markdown",
   "id": "3df49edd",
   "metadata": {},
   "source": [
    "#### Some of the common libraries  used by data scientists are :\n",
    "1. Pandas\n",
    "2. Numpy\n",
    "3. Matplotlib\n",
    "4. Seaborn\n",
    "5. Scikit-learn\n",
    "6. Tensorflow"
   ]
  },
  {
   "cell_type": "code",
   "execution_count": null,
   "id": "dbbf0791",
   "metadata": {},
   "outputs": [],
   "source": []
  },
  {
   "cell_type": "markdown",
   "id": "228fe354",
   "metadata": {},
   "source": [
    "|Data science tools|\n",
    "|------------------|\n",
    "|Jupyter notebook|\n",
    "|Rstudio|\n",
    "|VScode|"
   ]
  },
  {
   "cell_type": "code",
   "execution_count": null,
   "id": "6437b9e9",
   "metadata": {},
   "outputs": [],
   "source": []
  },
  {
   "cell_type": "markdown",
   "id": "5dec1756",
   "metadata": {},
   "source": [
    "#### Below are a few examples of evaluating arithmetic expressions in Python"
   ]
  },
  {
   "cell_type": "code",
   "execution_count": 2,
   "id": "9aa3ee5a",
   "metadata": {},
   "outputs": [
    {
     "data": {
      "text/plain": [
       "19"
      ]
     },
     "execution_count": 2,
     "metadata": {},
     "output_type": "execute_result"
    }
   ],
   "source": [
    "#this cell shows adding and multiplying numbers simultaneously\n",
    "sum_product= 5*3+4\n",
    "sum_product"
   ]
  },
  {
   "cell_type": "code",
   "execution_count": 3,
   "id": "0e77f48b",
   "metadata": {},
   "outputs": [
    {
     "name": "stdout",
     "output_type": "stream",
     "text": [
      "1.6666666666666667\n"
     ]
    }
   ],
   "source": [
    "#This code converts minutes to hours\n",
    "minutes=100\n",
    "hours=minutes/60\n",
    "print(hours)"
   ]
  },
  {
   "cell_type": "code",
   "execution_count": null,
   "id": "bc33d459",
   "metadata": {},
   "outputs": [],
   "source": []
  },
  {
   "cell_type": "markdown",
   "id": "0b759a45",
   "metadata": {},
   "source": [
    "## Objectives\n",
    "1. List popular languages for data science\n",
    "2. Explore commonly used libraries\n",
    "3. Create a table of Data science tools and ecosystems"
   ]
  },
  {
   "cell_type": "markdown",
   "id": "bf356335",
   "metadata": {},
   "source": [
    "## Author\n",
    "### YEGINENI TIRUMALA TEJA"
   ]
  },
  {
   "cell_type": "code",
   "execution_count": null,
   "id": "a8be725c",
   "metadata": {},
   "outputs": [],
   "source": []
  }
 ],
 "metadata": {
  "kernelspec": {
   "display_name": "Python 3 (ipykernel)",
   "language": "python",
   "name": "python3"
  },
  "language_info": {
   "codemirror_mode": {
    "name": "ipython",
    "version": 3
   },
   "file_extension": ".py",
   "mimetype": "text/x-python",
   "name": "python",
   "nbconvert_exporter": "python",
   "pygments_lexer": "ipython3",
   "version": "3.11.4"
  }
 },
 "nbformat": 4,
 "nbformat_minor": 5
}
